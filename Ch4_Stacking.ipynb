{
  "nbformat": 4,
  "nbformat_minor": 0,
  "metadata": {
    "colab": {
      "provenance": [],
      "authorship_tag": "ABX9TyNvk8714aN9qLc6f+iRBO/9",
      "include_colab_link": true
    },
    "kernelspec": {
      "name": "python3",
      "display_name": "Python 3"
    },
    "language_info": {
      "name": "python"
    }
  },
  "cells": [
    {
      "cell_type": "markdown",
      "metadata": {
        "id": "view-in-github",
        "colab_type": "text"
      },
      "source": [
        "<a href=\"https://colab.research.google.com/github/amrahmani/ML/blob/main/Ch4_Stacking.ipynb\" target=\"_parent\"><img src=\"https://colab.research.google.com/assets/colab-badge.svg\" alt=\"Open In Colab\"/></a>"
      ]
    },
    {
      "cell_type": "markdown",
      "source": [
        "**Problem:** Using **stacking** in ensemble methods, predict whether a student will pass (1) or fail (0) based on 'Assignments Completed', 'Attendance Rate', 'Previous GPA', 'Study Hours', 'Previous Passes'.\n",
        "\n",
        "\n",
        "Dataset = 'https://github.com/amrahmani/ML/blob/main/student_data.csv'.\n",
        "\n",
        "**Implementing Base Models**:\n",
        "\n",
        "o\tSelect at least three different machine learning algorithms (e.g., Decision Tree, Logistic Regression, Naïve Bayes, etc.) to serve as base models.\n",
        "\n",
        "o\tTrain each model on the dataset and evaluate performance using appropriate metrics (e.g., accuracy for classification, RMSE for regression).\n",
        "\n",
        "o\tRecord the predictions made by each base model.\n",
        "\n",
        "**Implementing Stacking Ensemble**:\n",
        "\n",
        "o\tSelect **a meta-learner** (e.g., a simple model like Logistic Regression or a more complex model) to combine the predictions of the base models.\n",
        "\n",
        "o\tTrain the meta-learner using the predictions from the base models as input features.\n",
        "\n",
        "o\tEvaluate the performance of the Stacking model using cross-validation.\n",
        "\n",
        "o\tUse metrics such as accuracy, precision, recall, F1-score (for classification), or RMSE, MAE (for regression) to evaluate and compare models.\n"
      ],
      "metadata": {
        "id": "HIXgzBmW7xdi"
      }
    },
    {
      "cell_type": "code",
      "execution_count": 2,
      "metadata": {
        "colab": {
          "base_uri": "https://localhost:8080/"
        },
        "id": "yxN7ZYc07gNq",
        "outputId": "ac96cd33-a389-4bad-a1a9-2d3309ca34a8"
      },
      "outputs": [
        {
          "output_type": "stream",
          "name": "stdout",
          "text": [
            "                 Model  Accuracy  Precision  Recall  F1-Score\n",
            "0        Decision Tree       1.0        1.0     1.0       1.0\n",
            "1  Logistic Regression       1.0        1.0     1.0       1.0\n",
            "2          Naive Bayes       1.0        1.0     1.0       1.0\n",
            "3    Stacking Ensemble       1.0        1.0     1.0       1.0\n"
          ]
        }
      ],
      "source": [
        "import pandas as pd\n",
        "import numpy as np\n",
        "from sklearn.model_selection import train_test_split, cross_val_score\n",
        "from sklearn.metrics import accuracy_score, precision_score, recall_score, f1_score\n",
        "from sklearn.tree import DecisionTreeClassifier\n",
        "from sklearn.linear_model import LogisticRegression\n",
        "from sklearn.naive_bayes import GaussianNB\n",
        "from sklearn.ensemble import StackingClassifier\n",
        "from sklearn.pipeline import make_pipeline\n",
        "from sklearn.preprocessing import StandardScaler\n",
        "\n",
        "# Step 1: Load and prepare the dataset\n",
        "url = 'https://raw.githubusercontent.com/amrahmani/ML/main/student_data.csv'\n",
        "df = pd.read_csv(url)\n",
        "\n",
        "# Feature selection\n",
        "features = ['Assignments Completed', 'Attendance Rate', 'Previous GPA', 'Study Hours', 'Previous Passes']\n",
        "X = df[features]\n",
        "y = df['Pass/Fail']\n",
        "\n",
        "# Split the data into training and test sets\n",
        "X_train, X_test, y_train, y_test = train_test_split(X, y, test_size=0.2, random_state=42)\n",
        "\n",
        "# Step 2: Train base models and evaluate performance\n",
        "# Base model 1: Decision Tree\n",
        "dt_model = DecisionTreeClassifier(random_state=42)\n",
        "dt_model.fit(X_train, y_train)\n",
        "dt_pred = dt_model.predict(X_test)\n",
        "\n",
        "# Base model 2: Logistic Regression\n",
        "lr_model = make_pipeline(StandardScaler(), LogisticRegression(random_state=42))\n",
        "lr_model.fit(X_train, y_train)\n",
        "lr_pred = lr_model.predict(X_test)\n",
        "\n",
        "# Base model 3: Naive Bayes\n",
        "nb_model = GaussianNB()\n",
        "nb_model.fit(X_train, y_train)\n",
        "nb_pred = nb_model.predict(X_test)\n",
        "\n",
        "# Evaluate base models\n",
        "def evaluate_model(predictions, y_true):\n",
        "    accuracy = accuracy_score(y_true, predictions)\n",
        "    precision = precision_score(y_true, predictions)\n",
        "    recall = recall_score(y_true, predictions)\n",
        "    f1 = f1_score(y_true, predictions)\n",
        "    return accuracy, precision, recall, f1\n",
        "\n",
        "# Recording the performance of each base model\n",
        "dt_metrics = evaluate_model(dt_pred, y_test)\n",
        "lr_metrics = evaluate_model(lr_pred, y_test)\n",
        "nb_metrics = evaluate_model(nb_pred, y_test)\n",
        "\n",
        "# Step 3: Implement Stacking Ensemble\n",
        "# Meta-learner: Logistic Regression\n",
        "estimators = [\n",
        "    ('decision_tree', dt_model),\n",
        "    ('logistic_regression', lr_model),\n",
        "    ('naive_bayes', nb_model)\n",
        "]\n",
        "\n",
        "stacking_model = StackingClassifier(\n",
        "    estimators=estimators,\n",
        "    final_estimator=LogisticRegression(),\n",
        "    cv=5\n",
        ")\n",
        "\n",
        "# Train the Stacking model\n",
        "stacking_model.fit(X_train, y_train)\n",
        "\n",
        "# Evaluate the Stacking model\n",
        "stacking_pred = stacking_model.predict(X_test)\n",
        "stacking_metrics = evaluate_model(stacking_pred, y_test)\n",
        "\n",
        "# Display the results\n",
        "results = pd.DataFrame({\n",
        "    'Model': ['Decision Tree', 'Logistic Regression', 'Naive Bayes', 'Stacking Ensemble'],\n",
        "    'Accuracy': [dt_metrics[0], lr_metrics[0], nb_metrics[0], stacking_metrics[0]],\n",
        "    'Precision': [dt_metrics[1], lr_metrics[1], nb_metrics[1], stacking_metrics[1]],\n",
        "    'Recall': [dt_metrics[2], lr_metrics[2], nb_metrics[2], stacking_metrics[2]],\n",
        "    'F1-Score': [dt_metrics[3], lr_metrics[3], nb_metrics[3], stacking_metrics[3]]\n",
        "})\n",
        "\n",
        "print(results)\n"
      ]
    }
  ]
}