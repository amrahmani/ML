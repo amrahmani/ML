{
  "nbformat": 4,
  "nbformat_minor": 0,
  "metadata": {
    "colab": {
      "provenance": [],
      "authorship_tag": "ABX9TyMry6UsRRDb2tohl89vCAbr",
      "include_colab_link": true
    },
    "kernelspec": {
      "name": "python3",
      "display_name": "Python 3"
    },
    "language_info": {
      "name": "python"
    }
  },
  "cells": [
    {
      "cell_type": "markdown",
      "metadata": {
        "id": "view-in-github",
        "colab_type": "text"
      },
      "source": [
        "<a href=\"https://colab.research.google.com/github/amrahmani/ML/blob/main/Ch1_DataPreprocessing.ipynb\" target=\"_parent\"><img src=\"https://colab.research.google.com/assets/colab-badge.svg\" alt=\"Open In Colab\"/></a>"
      ]
    },
    {
      "cell_type": "markdown",
      "source": [
        "**Create the dataset and download it**"
      ],
      "metadata": {
        "id": "Jnwod0XcVywJ"
      }
    },
    {
      "cell_type": "code",
      "source": [
        "import pandas as pd\n",
        "import numpy as np\n",
        "import matplotlib.pyplot as plt\n",
        "import seaborn as sns\n",
        "from google.colab import files\n",
        "\n",
        "# Set the random seed for reproducibility\n",
        "np.random.seed(42)\n",
        "\n",
        "# Create the dataset\n",
        "customer_id = np.arange(1, 201)\n",
        "gender = np.random.choice(['Male', 'Female'], size=200)\n",
        "age = np.random.normal(loc=40, scale=10, size=200).astype(int)\n",
        "annual_income = np.random.normal(loc=60, scale=15, size=200).astype(int)\n",
        "score = np.random.randint(1, 101, size=200)\n",
        "\n",
        "# Create a DataFrame\n",
        "customers = pd.DataFrame({\n",
        "    'Customer ID': customer_id,\n",
        "    'Gender': gender,\n",
        "    'Age': age,\n",
        "    'Annual Income (k$)': annual_income,\n",
        "    'Score (1-100)': score\n",
        "})\n",
        "\n",
        "# Introduce missing values for Annual Income (5% of rows)\n",
        "num_missing_annual_income = int(0.05 * len(customers))\n",
        "missing_indices = np.random.choice(customers.index, num_missing_annual_income, replace=False)\n",
        "customers.loc[missing_indices, 'Annual Income (k$)'] = np.nan\n",
        "\n",
        "# Introduce missing values for 2% of rows, keeping only Customer ID and Age\n",
        "num_missing_rows = int(0.02 * len(customers))\n",
        "missing_rows_indices = np.random.choice(customers.index, num_missing_rows, replace=False)\n",
        "customers.loc[missing_rows_indices, ['Gender', 'Annual Income (k$)', 'Score (1-100)']] = np.nan\n",
        "\n",
        "# Save the dataset to a CSV file\n",
        "customers.to_csv('customers.csv', index=False) # Set index=False to avoid including the index in the CSV file\n",
        "# Download the created CSV file\n",
        "files.download('customers.csv')\n",
        "# Display the first few rows of the dataset\n",
        "print(customers.head(10))\n",
        "print(customers.info())\n",
        "print(customers.describe())\n",
        "print(customers.isnull().sum())"
      ],
      "metadata": {
        "colab": {
          "base_uri": "https://localhost:8080/",
          "height": 721
        },
        "id": "Le77XQFqgQom",
        "outputId": "f559c01c-2d16-4e56-d528-6a9cd3ab6860"
      },
      "execution_count": 71,
      "outputs": [
        {
          "output_type": "display_data",
          "data": {
            "text/plain": [
              "<IPython.core.display.Javascript object>"
            ],
            "application/javascript": [
              "\n",
              "    async function download(id, filename, size) {\n",
              "      if (!google.colab.kernel.accessAllowed) {\n",
              "        return;\n",
              "      }\n",
              "      const div = document.createElement('div');\n",
              "      const label = document.createElement('label');\n",
              "      label.textContent = `Downloading \"${filename}\": `;\n",
              "      div.appendChild(label);\n",
              "      const progress = document.createElement('progress');\n",
              "      progress.max = size;\n",
              "      div.appendChild(progress);\n",
              "      document.body.appendChild(div);\n",
              "\n",
              "      const buffers = [];\n",
              "      let downloaded = 0;\n",
              "\n",
              "      const channel = await google.colab.kernel.comms.open(id);\n",
              "      // Send a message to notify the kernel that we're ready.\n",
              "      channel.send({})\n",
              "\n",
              "      for await (const message of channel.messages) {\n",
              "        // Send a message to notify the kernel that we're ready.\n",
              "        channel.send({})\n",
              "        if (message.buffers) {\n",
              "          for (const buffer of message.buffers) {\n",
              "            buffers.push(buffer);\n",
              "            downloaded += buffer.byteLength;\n",
              "            progress.value = downloaded;\n",
              "          }\n",
              "        }\n",
              "      }\n",
              "      const blob = new Blob(buffers, {type: 'application/binary'});\n",
              "      const a = document.createElement('a');\n",
              "      a.href = window.URL.createObjectURL(blob);\n",
              "      a.download = filename;\n",
              "      div.appendChild(a);\n",
              "      a.click();\n",
              "      div.remove();\n",
              "    }\n",
              "  "
            ]
          },
          "metadata": {}
        },
        {
          "output_type": "display_data",
          "data": {
            "text/plain": [
              "<IPython.core.display.Javascript object>"
            ],
            "application/javascript": [
              "download(\"download_f863e2e6-e483-468f-a6a2-77956da8adc4\", \"customers.csv\", 4431)"
            ]
          },
          "metadata": {}
        },
        {
          "output_type": "stream",
          "name": "stdout",
          "text": [
            "   Customer ID  Gender  Age  Annual Income (k$)  Score (1-100)\n",
            "0            1    Male   40                62.0           14.0\n",
            "1            2  Female   37                50.0           59.0\n",
            "2            3    Male   40                61.0           56.0\n",
            "3            4    Male   20                54.0            7.0\n",
            "4            5    Male   37                61.0            3.0\n",
            "5            6  Female   43                 NaN           23.0\n",
            "6            7    Male   54                83.0           18.0\n",
            "7            8    Male   34                41.0           38.0\n",
            "8            9    Male   31                91.0           99.0\n",
            "9           10  Female   34                30.0           15.0\n",
            "<class 'pandas.core.frame.DataFrame'>\n",
            "RangeIndex: 200 entries, 0 to 199\n",
            "Data columns (total 5 columns):\n",
            " #   Column              Non-Null Count  Dtype  \n",
            "---  ------              --------------  -----  \n",
            " 0   Customer ID         200 non-null    int64  \n",
            " 1   Gender              196 non-null    object \n",
            " 2   Age                 200 non-null    int64  \n",
            " 3   Annual Income (k$)  186 non-null    float64\n",
            " 4   Score (1-100)       196 non-null    float64\n",
            "dtypes: float64(2), int64(2), object(1)\n",
            "memory usage: 7.9+ KB\n",
            "None\n",
            "       Customer ID         Age  Annual Income (k$)  Score (1-100)\n",
            "count   200.000000  200.000000          186.000000     196.000000\n",
            "mean    100.500000   39.645000           59.978495      47.367347\n",
            "std      57.879185   10.094477           14.076224      29.562932\n",
            "min       1.000000    7.000000           25.000000       1.000000\n",
            "25%      50.750000   32.000000           51.000000      20.750000\n",
            "50%     100.500000   40.000000           59.500000      46.000000\n",
            "75%     150.250000   46.000000           69.750000      70.500000\n",
            "max     200.000000   78.000000           92.000000     100.000000\n",
            "Customer ID            0\n",
            "Gender                 4\n",
            "Age                    0\n",
            "Annual Income (k$)    14\n",
            "Score (1-100)          4\n",
            "dtype: int64\n"
          ]
        }
      ]
    },
    {
      "cell_type": "markdown",
      "source": [
        "**Step 1: Load the dataset**"
      ],
      "metadata": {
        "id": "g5VygqC4hmGU"
      }
    },
    {
      "cell_type": "code",
      "source": [
        "import pandas as pd\n",
        "import numpy as np\n",
        "import matplotlib.pyplot as plt\n",
        "import seaborn as sns\n",
        "from google.colab import files\n",
        "# Replace 'your_correct_url.csv' with the actual URL of your CSV file\n",
        "url = 'https://raw.githubusercontent.com/amrahmani/ML/main/customers.csv'\n",
        "\n",
        "# Read the CSV file into a Pandas DataFrame (assuming no header row)\n",
        "customers = pd.read_csv(url, header=None, names=[\"Customer ID\",\t\"Gender\",\t\"Age\",\t\"Annual Income (k$)\",\t\"Score (1-100)\"])  # Adjust header row if needed\n",
        "print(customers) # Display the first few rows of the dataset\n",
        "print(\"\\nCustomrs Information\")\n",
        "print(customers.info())\n",
        "print(\"\\nCustomrs Description\")\n",
        "print(customers.describe())"
      ],
      "metadata": {
        "colab": {
          "base_uri": "https://localhost:8080/"
        },
        "id": "EGqZY_-Dhza9",
        "outputId": "4cab8773-3885-45e6-8559-b0dfa5a74186"
      },
      "execution_count": 72,
      "outputs": [
        {
          "output_type": "stream",
          "name": "stdout",
          "text": [
            "     Customer ID  Gender  Age  Annual Income (k$)  Score (1-100)\n",
            "0    Customer ID  Gender  Age  Annual Income (k$)  Score (1-100)\n",
            "1              1    Male   40                  62             14\n",
            "2              2  Female   37                  50             59\n",
            "3              3    Male   40                  61             56\n",
            "4              4    Male   20                  54              7\n",
            "..           ...     ...  ...                 ...            ...\n",
            "196          196  Female   25                  25             51\n",
            "197          197  Female   51                  37             72\n",
            "198          198  Female   40                  80             42\n",
            "199          199    Male   30                  84             64\n",
            "200          200    Male   44                  56             15\n",
            "\n",
            "[201 rows x 5 columns]\n",
            "\n",
            "Customrs Information\n",
            "<class 'pandas.core.frame.DataFrame'>\n",
            "RangeIndex: 201 entries, 0 to 200\n",
            "Data columns (total 5 columns):\n",
            " #   Column              Non-Null Count  Dtype \n",
            "---  ------              --------------  ----- \n",
            " 0   Customer ID         201 non-null    object\n",
            " 1   Gender              197 non-null    object\n",
            " 2   Age                 201 non-null    object\n",
            " 3   Annual Income (k$)  187 non-null    object\n",
            " 4   Score (1-100)       197 non-null    object\n",
            "dtypes: object(5)\n",
            "memory usage: 8.0+ KB\n",
            "None\n",
            "\n",
            "Customrs Description\n",
            "        Customer ID Gender  Age Annual Income (k$) Score (1-100)\n",
            "count           201    197  201                187           197\n",
            "unique          201      3   46                 62            83\n",
            "top     Customer ID   Male   40                 61            51\n",
            "freq              1     99   13                  9             6\n"
          ]
        }
      ]
    },
    {
      "cell_type": "markdown",
      "source": [
        "**Step 2: Identify Missing Values**\n"
      ],
      "metadata": {
        "id": "XHfCLiwkhNiC"
      }
    },
    {
      "cell_type": "code",
      "source": [
        "# Identify missing values\n",
        "missing_values = customers.isnull().sum()\n",
        "print(\"Missing values before imputation:\")\n",
        "print(missing_values)"
      ],
      "metadata": {
        "colab": {
          "base_uri": "https://localhost:8080/"
        },
        "id": "1mnPMNQ7pnru",
        "outputId": "f567ad29-66fc-407f-e474-d61284c4357b"
      },
      "execution_count": 78,
      "outputs": [
        {
          "output_type": "stream",
          "name": "stdout",
          "text": [
            "Missing values before imputation:\n",
            "Customer ID            0\n",
            "Gender                 4\n",
            "Age                    0\n",
            "Annual Income (k$)    14\n",
            "Score (1-100)          4\n",
            "dtype: int64\n"
          ]
        }
      ]
    },
    {
      "cell_type": "markdown",
      "source": [
        "**Step 3: Remove Rows or Columns with High Percentage of Missing Values**"
      ],
      "metadata": {
        "id": "jYN5Jel4qA9r"
      }
    },
    {
      "cell_type": "code",
      "source": [
        "# Impute missing values with the mean value\n",
        "# customers_removed = customers.copy()\n",
        "\n",
        "# Remove rows with more than 50% missing values\n",
        "customers_removed = customers.dropna(thresh=customers.shape[1] * 0.5)\n",
        "\n",
        "# Show rows affected by removal\n",
        "removed_rows = customers[~customers.index.isin(customers_removed.index)]\n",
        "print(\"Rows removed due to high percentage of missing values:\")\n",
        "print(removed_rows)\n",
        "\n",
        "print(customers_removed) # Display the first few rows of the dataset\n",
        "print(\"Customer information after removal:\")\n",
        "customers_removed.info()"
      ],
      "metadata": {
        "colab": {
          "base_uri": "https://localhost:8080/"
        },
        "id": "4Hqtgok1rqZl",
        "outputId": "ae8b3b94-e3fe-42ac-b701-8352a5c54fc0"
      },
      "execution_count": 88,
      "outputs": [
        {
          "output_type": "stream",
          "name": "stdout",
          "text": [
            "Rows removed due to high percentage of missing values:\n",
            "    Customer ID Gender Age Annual Income (k$) Score (1-100)\n",
            "28           28    NaN  31                NaN           NaN\n",
            "116         116    NaN  48                NaN           NaN\n",
            "134         134    NaN  78                NaN           NaN\n",
            "141         141    NaN  32                NaN           NaN\n",
            "     Customer ID  Gender  Age  Annual Income (k$)  Score (1-100)\n",
            "0    Customer ID  Gender  Age  Annual Income (k$)  Score (1-100)\n",
            "1              1    Male   40                  62             14\n",
            "2              2  Female   37                  50             59\n",
            "3              3    Male   40                  61             56\n",
            "4              4    Male   20                  54              7\n",
            "..           ...     ...  ...                 ...            ...\n",
            "196          196  Female   25                  25             51\n",
            "197          197  Female   51                  37             72\n",
            "198          198  Female   40                  80             42\n",
            "199          199    Male   30                  84             64\n",
            "200          200    Male   44                  56             15\n",
            "\n",
            "[197 rows x 5 columns]\n",
            "Customer information after removal:\n",
            "<class 'pandas.core.frame.DataFrame'>\n",
            "Index: 197 entries, 0 to 200\n",
            "Data columns (total 5 columns):\n",
            " #   Column              Non-Null Count  Dtype \n",
            "---  ------              --------------  ----- \n",
            " 0   Customer ID         197 non-null    object\n",
            " 1   Gender              197 non-null    object\n",
            " 2   Age                 197 non-null    object\n",
            " 3   Annual Income (k$)  187 non-null    object\n",
            " 4   Score (1-100)       197 non-null    object\n",
            "dtypes: object(5)\n",
            "memory usage: 9.2+ KB\n"
          ]
        }
      ]
    },
    {
      "cell_type": "markdown",
      "source": [
        "**Step 4: Impute Missing Values with Mean Value**"
      ],
      "metadata": {
        "id": "eUqEjoidpoNA"
      }
    },
    {
      "cell_type": "code",
      "source": [
        "# Impute missing values with the mean value\n",
        "customers_imputed = customers_removed.copy()\n",
        "\n",
        "# Convert 'Annual Income (k$)' to numeric, handling errors\n",
        "customers_imputed['Annual Income (k$)'] = pd.to_numeric(customers_imputed['Annual Income (k$)'], errors='coerce')\n",
        "# Convert 'Score (1-100)' to numeric, handling errors\n",
        "customers_imputed['Score (1-100)'] = pd.to_numeric(customers_imputed['Score (1-100)'], errors='coerce') # Convert 'Score' column to numeric\n",
        "\n",
        "mean_income = customers_imputed['Annual Income (k$)'].mean()\n",
        "mean_score = customers_imputed['Score (1-100)'].mean()\n",
        "\n",
        "# Show rows with missing values before imputation\n",
        "missing_before = customers_imputed[customers_imputed.isnull().any(axis=1)]\n",
        "print(\"Rows with missing values before imputation:\")\n",
        "print(missing_before)\n",
        "\n",
        "# Impute missing values\n",
        "customers_imputed['Annual Income (k$)'].fillna(mean_income, inplace=True)\n",
        "customers_imputed['Score (1-100)'].fillna(mean_score, inplace=True)\n",
        "\n",
        "# Show rows with missing values after imputation\n",
        "missing_after = customers_imputed[customers_imputed.isnull().any(axis=1)]\n",
        "print(\"Rows with missing values after imputation:\")\n",
        "print(missing_after)\n",
        "print(\"Customer information after imputation:\")\n",
        "customers_imputed.info()"
      ],
      "metadata": {
        "colab": {
          "base_uri": "https://localhost:8080/"
        },
        "id": "6mPKjGsWqAdq",
        "outputId": "2c249976-38aa-425e-c608-65e137e7d664"
      },
      "execution_count": 87,
      "outputs": [
        {
          "output_type": "stream",
          "name": "stdout",
          "text": [
            "Rows with missing values before imputation:\n",
            "     Customer ID  Gender  Age  Annual Income (k$)  Score (1-100)\n",
            "0    Customer ID  Gender  Age                 NaN            NaN\n",
            "6              6  Female   43                 NaN           23.0\n",
            "39            39    Male   38                 NaN           52.0\n",
            "84            84  Female   46                 NaN            8.0\n",
            "102          102  Female   54                 NaN           64.0\n",
            "105          105  Female   46                 NaN           11.0\n",
            "121          121  Female   31                 NaN           84.0\n",
            "124          124    Male   28                 NaN           73.0\n",
            "137          137    Male   49                 NaN           60.0\n",
            "160          160  Female   46                 NaN           37.0\n",
            "173          173    Male   57                 NaN           39.0\n",
            "Rows with missing values after imputation:\n",
            "Empty DataFrame\n",
            "Columns: [Customer ID, Gender, Age, Annual Income (k$), Score (1-100)]\n",
            "Index: []\n",
            "Customer nformation after imputation:\n",
            "<class 'pandas.core.frame.DataFrame'>\n",
            "Index: 197 entries, 0 to 200\n",
            "Data columns (total 5 columns):\n",
            " #   Column              Non-Null Count  Dtype  \n",
            "---  ------              --------------  -----  \n",
            " 0   Customer ID         197 non-null    object \n",
            " 1   Gender              197 non-null    object \n",
            " 2   Age                 197 non-null    object \n",
            " 3   Annual Income (k$)  197 non-null    float64\n",
            " 4   Score (1-100)       197 non-null    float64\n",
            "dtypes: float64(2), object(3)\n",
            "memory usage: 9.2+ KB\n"
          ]
        }
      ]
    },
    {
      "cell_type": "markdown",
      "source": [
        "**`Step 5: Visualize Missing Data`**"
      ],
      "metadata": {
        "id": "4gKs1Jjerqya"
      }
    },
    {
      "cell_type": "code",
      "source": [
        "# Visualize missing data before cleaning\n",
        "plt.figure(figsize=(10, 6))\n",
        "sns.heatmap(customers.isnull(), cbar=False, cmap='viridis')\n",
        "plt.title('Missing Data Before Cleaning')\n",
        "plt.show()\n",
        "\n",
        "# Visualize missing data after cleaning\n",
        "plt.figure(figsize=(10, 6))\n",
        "sns.heatmap(customers_imputed.isnull(), cbar=False, cmap='viridis')\n",
        "plt.title('Missing Data After Cleaning')\n",
        "plt.show()\n"
      ],
      "metadata": {
        "colab": {
          "base_uri": "https://localhost:8080/",
          "height": 1000
        },
        "id": "2cmH_l9EV082",
        "outputId": "e4cba847-93da-43b8-f1e6-68e6ac5e50c2"
      },
      "execution_count": 89,
      "outputs": [
        {
          "output_type": "display_data",
          "data": {
            "text/plain": [
              "<Figure size 1000x600 with 1 Axes>"
            ],
            "image/png": "[encoded data removed]"
          },
          "metadata": {}
        },
        {
          "output_type": "display_data",
          "data": {
            "text/plain": [
              "<Figure size 1000x600 with 1 Axes>"
            ],
            "image/png": "[encoded data removed]"
          },
          "metadata": {}
        }
      ]
    },
    {
      "cell_type": "markdown",
      "source": [
        "**`Step 6: Save the cleaned dataset to a new CSV file**"
      ],
      "metadata": {
        "id": "LnuiH0pbtynu"
      }
    },
    {
      "cell_type": "code",
      "source": [
        "# Save the cleaned dataset to a CSV file\n",
        "customers_imputed.to_csv('customers_cleaned.csv', index=False) # Set index=False to avoid including the index in the CSV file\n",
        "# Download the created CSV file\n",
        "files.download('customers_cleaned.csv')"
      ],
      "metadata": {
        "colab": {
          "base_uri": "https://localhost:8080/",
          "height": 17
        },
        "id": "pWfGRbett_E6",
        "outputId": "d267bfbc-f587-44ac-bdc0-09a310f839a1"
      },
      "execution_count": 84,
      "outputs": [
        {
          "output_type": "display_data",
          "data": {
            "text/plain": [
              "<IPython.core.display.Javascript object>"
            ],
            "application/javascript": [
              "\n",
              "    async function download(id, filename, size) {\n",
              "      if (!google.colab.kernel.accessAllowed) {\n",
              "        return;\n",
              "      }\n",
              "      const div = document.createElement('div');\n",
              "      const label = document.createElement('label');\n",
              "      label.textContent = `Downloading \"${filename}\": `;\n",
              "      div.appendChild(label);\n",
              "      const progress = document.createElement('progress');\n",
              "      progress.max = size;\n",
              "      div.appendChild(progress);\n",
              "      document.body.appendChild(div);\n",
              "\n",
              "      const buffers = [];\n",
              "      let downloaded = 0;\n",
              "\n",
              "      const channel = await google.colab.kernel.comms.open(id);\n",
              "      // Send a message to notify the kernel that we're ready.\n",
              "      channel.send({})\n",
              "\n",
              "      for await (const message of channel.messages) {\n",
              "        // Send a message to notify the kernel that we're ready.\n",
              "        channel.send({})\n",
              "        if (message.buffers) {\n",
              "          for (const buffer of message.buffers) {\n",
              "            buffers.push(buffer);\n",
              "            downloaded += buffer.byteLength;\n",
              "            progress.value = downloaded;\n",
              "          }\n",
              "        }\n",
              "      }\n",
              "      const blob = new Blob(buffers, {type: 'application/binary'});\n",
              "      const a = document.createElement('a');\n",
              "      a.href = window.URL.createObjectURL(blob);\n",
              "      a.download = filename;\n",
              "      div.appendChild(a);\n",
              "      a.click();\n",
              "      div.remove();\n",
              "    }\n",
              "  "
            ]
          },
          "metadata": {}
        },
        {
          "output_type": "display_data",
          "data": {
            "text/plain": [
              "<IPython.core.display.Javascript object>"
            ],
            "application/javascript": [
              "download(\"download_1b55d00a-2494-4962-8b32-0f4c82988c8a\", \"customers_cleaned.csv\", 4621)"
            ]
          },
          "metadata": {}
        }
      ]
    },
    {
      "cell_type": "markdown",
      "source": [
        "**Identify Categorical Columns and Apply Label Encoding**"
      ],
      "metadata": {
        "id": "rjmgosBBLf1o"
      }
    },
    {
      "cell_type": "code",
      "source": [
        "from sklearn.preprocessing import LabelEncoder, OneHotEncoder\n",
        "\n",
        "# Step 1: Label Encoding for 'Gender' column\n",
        "label_encoder = LabelEncoder()\n",
        "customers_encoded = customers_imputed.copy() # Create a copy of the DataFrame\n",
        "customers_encoded['Gender'] = label_encoder.fit_transform(customers_encoded['Gender'])\n",
        "\n",
        "print(\"\\nDataset after Label Encoding:\\n\", customers_encoded.head())\n",
        "\n",
        "# Step 2: One-Hot Encoding (if needed, here we don't have other categorical features for one-hot encoding)\n",
        "# If there were additional categorical columns with many unique values, we would apply one-hot encoding here.\n",
        "\n",
        "# Step 3: Comparison\n",
        "# No one-hot encoding applied, so only Label Encoding comparison\n",
        "print(\"\\nComparison of 'Gender' column before and after encoding:\")\n",
        "print(customers_encoded.head())\n",
        "\n",
        "# Step 4: Save the encoded dataset to a new CSV file\n",
        "customers_encoded.to_csv('customers_encoded.csv', index=False)\n",
        "\n",
        "print(\"\\nEncoded dataset saved to 'customers_encoded.csv'\")\n",
        "# files.download('customers_encoded.csv')\n",
        "\n",
        "print(\"Customer information after label encoding:\")\n",
        "customers_encoded.info()"
      ],
      "metadata": {
        "colab": {
          "base_uri": "https://localhost:8080/"
        },
        "id": "YJ45siVXLgfX",
        "outputId": "befbf7ff-96cb-43db-ffef-f341c53b3324"
      },
      "execution_count": 91,
      "outputs": [
        {
          "output_type": "stream",
          "name": "stdout",
          "text": [
            "\n",
            "Dataset after Label Encoding:\n",
            "    Customer ID  Gender  Age  Annual Income (k$)  Score (1-100)\n",
            "0  Customer ID       1  Age           59.978495      47.367347\n",
            "1            1       2   40           62.000000      14.000000\n",
            "2            2       0   37           50.000000      59.000000\n",
            "3            3       2   40           61.000000      56.000000\n",
            "4            4       2   20           54.000000       7.000000\n",
            "\n",
            "Comparison of 'Gender' column before and after encoding:\n",
            "   Customer ID  Gender  Age  Annual Income (k$)  Score (1-100)\n",
            "0  Customer ID       1  Age           59.978495      47.367347\n",
            "1            1       2   40           62.000000      14.000000\n",
            "2            2       0   37           50.000000      59.000000\n",
            "3            3       2   40           61.000000      56.000000\n",
            "4            4       2   20           54.000000       7.000000\n",
            "\n",
            "Encoded dataset saved to 'customers_encoded.csv'\n",
            "Customer information after label encoding:\n",
            "<class 'pandas.core.frame.DataFrame'>\n",
            "Index: 197 entries, 0 to 200\n",
            "Data columns (total 5 columns):\n",
            " #   Column              Non-Null Count  Dtype  \n",
            "---  ------              --------------  -----  \n",
            " 0   Customer ID         197 non-null    object \n",
            " 1   Gender              197 non-null    int64  \n",
            " 2   Age                 197 non-null    object \n",
            " 3   Annual Income (k$)  197 non-null    float64\n",
            " 4   Score (1-100)       197 non-null    float64\n",
            "dtypes: float64(2), int64(1), object(2)\n",
            "memory usage: 9.2+ KB\n"
          ]
        }
      ]
    }
  ]
}